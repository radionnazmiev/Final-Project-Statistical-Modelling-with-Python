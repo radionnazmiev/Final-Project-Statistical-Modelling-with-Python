{
 "cells": [
  {
   "cell_type": "code",
   "execution_count": 17,
   "metadata": {},
   "outputs": [],
   "source": [
    "# import necessary libraries\n",
    "import requests as req\n",
    "import json\n",
    "import pandas as pd\n",
    "import numpy as np\n",
    "import matplotlib.pyplot as plt"
   ]
  },
  {
   "cell_type": "markdown",
   "metadata": {},
   "source": [
    "# CityBikes"
   ]
  },
  {
   "cell_type": "code",
   "execution_count": 18,
   "metadata": {},
   "outputs": [],
   "source": [
    "\n",
    "# define the base URL for the API and the path for data assets\n",
    "base_url = \"http://api.citybik.es\"\n",
    "\n",
    "# define the folder path\n",
    "assets_path = '../data/'\n",
    "\n",
    "# retrieve all network information from the API and extract only the location and href fields\n",
    "res = req.get(f\"{base_url}/v2/networks?fields=location,href\").json()['networks']\n"
   ]
  },
  {
   "cell_type": "markdown",
   "metadata": {},
   "source": [
    "Send a request to CityBikes for the city of your choice. "
   ]
  },
  {
   "cell_type": "code",
   "execution_count": 19,
   "metadata": {},
   "outputs": [],
   "source": [
    "\n",
    "# set the city for which we want to retrieve bike data\n",
    "city = 'Vancouver'\n",
    "\n",
    "# extract the href fields for all networks in the specified city\n",
    "companies_href = [i['href'] for i in res if city.lower() in i['location']['city'].lower()]"
   ]
  },
  {
   "cell_type": "markdown",
   "metadata": {},
   "source": [
    "Parse through the response to get the details you want for the bike stations in that city (latitude, longitude, number of bikes). "
   ]
  },
  {
   "cell_type": "code",
   "execution_count": 20,
   "metadata": {},
   "outputs": [],
   "source": [
    "\n",
    "# initialize an empty dictionary to store the bike data\n",
    "data = {'Free bikes': [], 'Latitude': [], 'Longitude': [], \"Empty slots\": [], \"Id\": []}\n",
    "\n",
    "# loop through each network in the city and retrieve the bike station data\n",
    "for company_endpoint in companies_href:\n",
    "    # make an API call to retrieve the station data for the current network\n",
    "    stations_list = req.get(f\"{base_url}{company_endpoint}?fields=stations\").json()['network'][\"stations\"]\n",
    "    \n",
    "    # loop through each station in the current network and extract the desired data\n",
    "    for index in range(len(stations_list)):\n",
    "        data[\"Free bikes\"].append(stations_list[index]['free_bikes'])\n",
    "        data[\"Latitude\"].append(stations_list[index]['latitude'])\n",
    "        data[\"Longitude\"].append(stations_list[index]['longitude'])\n",
    "        data[\"Empty slots\"].append(stations_list[index]['empty_slots'])\n",
    "        data[\"Id\"].append(stations_list[index]['id'])"
   ]
  },
  {
   "cell_type": "markdown",
   "metadata": {},
   "source": [
    "Put your parsed results into a DataFrame."
   ]
  },
  {
   "cell_type": "code",
   "execution_count": 21,
   "metadata": {},
   "outputs": [],
   "source": [
    "# create a pandas DataFrame from the extracted data\n",
    "df = pd.DataFrame(data).sample(n=200)\n",
    "\n",
    "# save the DataFrame to a CSV file\n",
    "df.to_csv(assets_path + 'citybikes.csv', index=False)"
   ]
  },
  {
   "cell_type": "code",
   "execution_count": null,
   "metadata": {},
   "outputs": [],
   "source": []
  }
 ],
 "metadata": {
  "kernelspec": {
   "display_name": "Python 3",
   "language": "python",
   "name": "python3"
  },
  "language_info": {
   "codemirror_mode": {
    "name": "ipython",
    "version": 3
   },
   "file_extension": ".py",
   "mimetype": "text/x-python",
   "name": "python",
   "nbconvert_exporter": "python",
   "pygments_lexer": "ipython3",
   "version": "3.10.10"
  }
 },
 "nbformat": 4,
 "nbformat_minor": 4
}
